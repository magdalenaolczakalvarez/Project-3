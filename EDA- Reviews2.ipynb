{
 "cells": [
  {
   "cell_type": "code",
   "execution_count": 191,
   "id": "a5f0091c",
   "metadata": {},
   "outputs": [],
   "source": [
    "import pandas as pd\n",
    "import matplotlib.pyplot as plt\n",
    "\n",
    "\n",
    "import regex as re"
   ]
  },
  {
   "cell_type": "code",
   "execution_count": 192,
   "id": "9037f4c0",
   "metadata": {},
   "outputs": [
    {
     "data": {
      "text/html": [
       "<div>\n",
       "<style scoped>\n",
       "    .dataframe tbody tr th:only-of-type {\n",
       "        vertical-align: middle;\n",
       "    }\n",
       "\n",
       "    .dataframe tbody tr th {\n",
       "        vertical-align: top;\n",
       "    }\n",
       "\n",
       "    .dataframe thead th {\n",
       "        text-align: right;\n",
       "    }\n",
       "</style>\n",
       "<table border=\"1\" class=\"dataframe\">\n",
       "  <thead>\n",
       "    <tr style=\"text-align: right;\">\n",
       "      <th></th>\n",
       "      <th>listing_id</th>\n",
       "      <th>id</th>\n",
       "      <th>date</th>\n",
       "      <th>reviewer_id</th>\n",
       "      <th>reviewer_name</th>\n",
       "      <th>comments</th>\n",
       "    </tr>\n",
       "  </thead>\n",
       "  <tbody>\n",
       "    <tr>\n",
       "      <th>0</th>\n",
       "      <td>3686</td>\n",
       "      <td>131293</td>\n",
       "      <td>2010-11-01</td>\n",
       "      <td>257234</td>\n",
       "      <td>Callie</td>\n",
       "      <td>Staying with Levita and her wonderful family w...</td>\n",
       "    </tr>\n",
       "    <tr>\n",
       "      <th>1</th>\n",
       "      <td>67483</td>\n",
       "      <td>178804</td>\n",
       "      <td>2011-02-06</td>\n",
       "      <td>74805</td>\n",
       "      <td>Nathan</td>\n",
       "      <td>We had a wonderful stay! It's a beautiful hous...</td>\n",
       "    </tr>\n",
       "    <tr>\n",
       "      <th>2</th>\n",
       "      <td>67483</td>\n",
       "      <td>186099</td>\n",
       "      <td>2011-02-21</td>\n",
       "      <td>41558</td>\n",
       "      <td>Rajeev</td>\n",
       "      <td>Looks like my last review didn't get posted. \\...</td>\n",
       "    </tr>\n",
       "    <tr>\n",
       "      <th>3</th>\n",
       "      <td>67483</td>\n",
       "      <td>215731</td>\n",
       "      <td>2011-04-03</td>\n",
       "      <td>368549</td>\n",
       "      <td>Sarah-Marie</td>\n",
       "      <td>I visited DC with my boyfriend from Germany. C...</td>\n",
       "    </tr>\n",
       "    <tr>\n",
       "      <th>4</th>\n",
       "      <td>67483</td>\n",
       "      <td>255742</td>\n",
       "      <td>2011-05-08</td>\n",
       "      <td>530299</td>\n",
       "      <td>Marci</td>\n",
       "      <td>The upstairs apartment was charming and comfor...</td>\n",
       "    </tr>\n",
       "    <tr>\n",
       "      <th>...</th>\n",
       "      <td>...</td>\n",
       "      <td>...</td>\n",
       "      <td>...</td>\n",
       "      <td>...</td>\n",
       "      <td>...</td>\n",
       "      <td>...</td>\n",
       "    </tr>\n",
       "    <tr>\n",
       "      <th>382003</th>\n",
       "      <td>1011662043769361021</td>\n",
       "      <td>1038476115922639203</td>\n",
       "      <td>2023-12-03</td>\n",
       "      <td>404046632</td>\n",
       "      <td>Juhi</td>\n",
       "      <td>This was a wonderful place, honestly a steal, ...</td>\n",
       "    </tr>\n",
       "    <tr>\n",
       "      <th>382004</th>\n",
       "      <td>1011662043769361021</td>\n",
       "      <td>1048665126771903495</td>\n",
       "      <td>2023-12-17</td>\n",
       "      <td>294302840</td>\n",
       "      <td>Cheryl</td>\n",
       "      <td>Scott's place was PERFECT for our group of 6. ...</td>\n",
       "    </tr>\n",
       "    <tr>\n",
       "      <th>382005</th>\n",
       "      <td>1011936731526425450</td>\n",
       "      <td>1026126491905061548</td>\n",
       "      <td>2023-11-16</td>\n",
       "      <td>139333439</td>\n",
       "      <td>Cong</td>\n",
       "      <td>I had a nice stay. highly recommended!</td>\n",
       "    </tr>\n",
       "    <tr>\n",
       "      <th>382006</th>\n",
       "      <td>1012429822724520886</td>\n",
       "      <td>1027662447106785746</td>\n",
       "      <td>2023-11-18</td>\n",
       "      <td>395784221</td>\n",
       "      <td>Amanda</td>\n",
       "      <td>Kyle’s place was just in the right spot for wa...</td>\n",
       "    </tr>\n",
       "    <tr>\n",
       "      <th>382007</th>\n",
       "      <td>1012429822724520886</td>\n",
       "      <td>1033430327505008026</td>\n",
       "      <td>2023-11-26</td>\n",
       "      <td>239501295</td>\n",
       "      <td>Marquis</td>\n",
       "      <td>I will book with Kyle again! We stayed for tha...</td>\n",
       "    </tr>\n",
       "  </tbody>\n",
       "</table>\n",
       "<p>382008 rows × 6 columns</p>\n",
       "</div>"
      ],
      "text/plain": [
       "                 listing_id                   id        date  reviewer_id  \\\n",
       "0                      3686               131293  2010-11-01       257234   \n",
       "1                     67483               178804  2011-02-06        74805   \n",
       "2                     67483               186099  2011-02-21        41558   \n",
       "3                     67483               215731  2011-04-03       368549   \n",
       "4                     67483               255742  2011-05-08       530299   \n",
       "...                     ...                  ...         ...          ...   \n",
       "382003  1011662043769361021  1038476115922639203  2023-12-03    404046632   \n",
       "382004  1011662043769361021  1048665126771903495  2023-12-17    294302840   \n",
       "382005  1011936731526425450  1026126491905061548  2023-11-16    139333439   \n",
       "382006  1012429822724520886  1027662447106785746  2023-11-18    395784221   \n",
       "382007  1012429822724520886  1033430327505008026  2023-11-26    239501295   \n",
       "\n",
       "       reviewer_name                                           comments  \n",
       "0             Callie  Staying with Levita and her wonderful family w...  \n",
       "1             Nathan  We had a wonderful stay! It's a beautiful hous...  \n",
       "2             Rajeev  Looks like my last review didn't get posted. \\...  \n",
       "3        Sarah-Marie  I visited DC with my boyfriend from Germany. C...  \n",
       "4              Marci  The upstairs apartment was charming and comfor...  \n",
       "...              ...                                                ...  \n",
       "382003          Juhi  This was a wonderful place, honestly a steal, ...  \n",
       "382004        Cheryl  Scott's place was PERFECT for our group of 6. ...  \n",
       "382005          Cong             I had a nice stay. highly recommended!  \n",
       "382006        Amanda  Kyle’s place was just in the right spot for wa...  \n",
       "382007       Marquis  I will book with Kyle again! We stayed for tha...  \n",
       "\n",
       "[382008 rows x 6 columns]"
      ]
     },
     "execution_count": 192,
     "metadata": {},
     "output_type": "execute_result"
    }
   ],
   "source": [
    "#Files to load\n",
    "reviews_df= pd.read_csv(r\"C:\\Users\\polska2207\\Downloads\\reviews2.csv\")\n",
    "reviews_df\n"
   ]
  },
  {
   "cell_type": "code",
   "execution_count": 193,
   "id": "b55db81a",
   "metadata": {},
   "outputs": [],
   "source": [
    "# Read in Reviews dataset\n",
    "reviews2 = pd.read_csv('/Users/polska2207/Downloads/reviews2.csv')"
   ]
  },
  {
   "cell_type": "code",
   "execution_count": 194,
   "id": "664055f3",
   "metadata": {},
   "outputs": [
    {
     "data": {
      "text/plain": [
       "(382008, 6)"
      ]
     },
     "execution_count": 194,
     "metadata": {},
     "output_type": "execute_result"
    }
   ],
   "source": [
    "# Summary Stats\n",
    "# Check shape for total number of reviews\n",
    "reviews2.shape"
   ]
  },
  {
   "cell_type": "code",
   "execution_count": 195,
   "id": "44c377c1",
   "metadata": {},
   "outputs": [
    {
     "data": {
      "text/html": [
       "<div>\n",
       "<style scoped>\n",
       "    .dataframe tbody tr th:only-of-type {\n",
       "        vertical-align: middle;\n",
       "    }\n",
       "\n",
       "    .dataframe tbody tr th {\n",
       "        vertical-align: top;\n",
       "    }\n",
       "\n",
       "    .dataframe thead th {\n",
       "        text-align: right;\n",
       "    }\n",
       "</style>\n",
       "<table border=\"1\" class=\"dataframe\">\n",
       "  <thead>\n",
       "    <tr style=\"text-align: right;\">\n",
       "      <th></th>\n",
       "      <th>listing_id</th>\n",
       "      <th>id</th>\n",
       "      <th>date</th>\n",
       "      <th>reviewer_id</th>\n",
       "      <th>reviewer_name</th>\n",
       "      <th>comments</th>\n",
       "    </tr>\n",
       "  </thead>\n",
       "  <tbody>\n",
       "    <tr>\n",
       "      <th>0</th>\n",
       "      <td>3686</td>\n",
       "      <td>131293</td>\n",
       "      <td>2010-11-01</td>\n",
       "      <td>257234</td>\n",
       "      <td>Callie</td>\n",
       "      <td>Staying with Levita and her wonderful family w...</td>\n",
       "    </tr>\n",
       "    <tr>\n",
       "      <th>1</th>\n",
       "      <td>67483</td>\n",
       "      <td>178804</td>\n",
       "      <td>2011-02-06</td>\n",
       "      <td>74805</td>\n",
       "      <td>Nathan</td>\n",
       "      <td>We had a wonderful stay! It's a beautiful hous...</td>\n",
       "    </tr>\n",
       "    <tr>\n",
       "      <th>2</th>\n",
       "      <td>67483</td>\n",
       "      <td>186099</td>\n",
       "      <td>2011-02-21</td>\n",
       "      <td>41558</td>\n",
       "      <td>Rajeev</td>\n",
       "      <td>Looks like my last review didn't get posted. \\...</td>\n",
       "    </tr>\n",
       "    <tr>\n",
       "      <th>3</th>\n",
       "      <td>67483</td>\n",
       "      <td>215731</td>\n",
       "      <td>2011-04-03</td>\n",
       "      <td>368549</td>\n",
       "      <td>Sarah-Marie</td>\n",
       "      <td>I visited DC with my boyfriend from Germany. C...</td>\n",
       "    </tr>\n",
       "    <tr>\n",
       "      <th>4</th>\n",
       "      <td>67483</td>\n",
       "      <td>255742</td>\n",
       "      <td>2011-05-08</td>\n",
       "      <td>530299</td>\n",
       "      <td>Marci</td>\n",
       "      <td>The upstairs apartment was charming and comfor...</td>\n",
       "    </tr>\n",
       "  </tbody>\n",
       "</table>\n",
       "</div>"
      ],
      "text/plain": [
       "   listing_id      id        date  reviewer_id reviewer_name  \\\n",
       "0        3686  131293  2010-11-01       257234        Callie   \n",
       "1       67483  178804  2011-02-06        74805        Nathan   \n",
       "2       67483  186099  2011-02-21        41558        Rajeev   \n",
       "3       67483  215731  2011-04-03       368549   Sarah-Marie   \n",
       "4       67483  255742  2011-05-08       530299         Marci   \n",
       "\n",
       "                                            comments  \n",
       "0  Staying with Levita and her wonderful family w...  \n",
       "1  We had a wonderful stay! It's a beautiful hous...  \n",
       "2  Looks like my last review didn't get posted. \\...  \n",
       "3  I visited DC with my boyfriend from Germany. C...  \n",
       "4  The upstairs apartment was charming and comfor...  "
      ]
     },
     "execution_count": 195,
     "metadata": {},
     "output_type": "execute_result"
    }
   ],
   "source": [
    "# Look at reviews data\n",
    "reviews2.head()"
   ]
  },
  {
   "cell_type": "code",
   "execution_count": 196,
   "id": "497984f4",
   "metadata": {},
   "outputs": [
    {
     "name": "stdout",
     "output_type": "stream",
     "text": [
      "<class 'pandas.core.frame.DataFrame'>\n",
      "RangeIndex: 382008 entries, 0 to 382007\n",
      "Data columns (total 6 columns):\n",
      " #   Column         Non-Null Count   Dtype \n",
      "---  ------         --------------   ----- \n",
      " 0   listing_id     382008 non-null  int64 \n",
      " 1   id             382008 non-null  int64 \n",
      " 2   date           382008 non-null  object\n",
      " 3   reviewer_id    382008 non-null  int64 \n",
      " 4   reviewer_name  382007 non-null  object\n",
      " 5   comments       381905 non-null  object\n",
      "dtypes: int64(3), object(3)\n",
      "memory usage: 17.5+ MB\n"
     ]
    }
   ],
   "source": [
    "# Look at info stats\n",
    "reviews2.info()"
   ]
  },
  {
   "cell_type": "code",
   "execution_count": 197,
   "id": "feb76e7d",
   "metadata": {},
   "outputs": [
    {
     "data": {
      "text/plain": [
       "listing_id        int64\n",
       "id                int64\n",
       "date             object\n",
       "reviewer_id       int64\n",
       "reviewer_name    object\n",
       "comments         object\n",
       "dtype: object"
      ]
     },
     "execution_count": 197,
     "metadata": {},
     "output_type": "execute_result"
    }
   ],
   "source": [
    "reviews2.dtypes"
   ]
  },
  {
   "cell_type": "code",
   "execution_count": 198,
   "id": "5aa23e08",
   "metadata": {},
   "outputs": [
    {
     "data": {
      "text/plain": [
       "listing_id         0\n",
       "id                 0\n",
       "date               0\n",
       "reviewer_id        0\n",
       "reviewer_name      1\n",
       "comments         103\n",
       "dtype: int64"
      ]
     },
     "execution_count": 198,
     "metadata": {},
     "output_type": "execute_result"
    }
   ],
   "source": [
    "# Check for null values\n",
    "reviews2.isnull().sum()"
   ]
  },
  {
   "cell_type": "code",
   "execution_count": 199,
   "id": "f431b65f",
   "metadata": {},
   "outputs": [
    {
     "data": {
      "text/html": [
       "<div>\n",
       "<style scoped>\n",
       "    .dataframe tbody tr th:only-of-type {\n",
       "        vertical-align: middle;\n",
       "    }\n",
       "\n",
       "    .dataframe tbody tr th {\n",
       "        vertical-align: top;\n",
       "    }\n",
       "\n",
       "    .dataframe thead th {\n",
       "        text-align: right;\n",
       "    }\n",
       "</style>\n",
       "<table border=\"1\" class=\"dataframe\">\n",
       "  <thead>\n",
       "    <tr style=\"text-align: right;\">\n",
       "      <th></th>\n",
       "      <th>listing_id</th>\n",
       "      <th>id</th>\n",
       "      <th>date</th>\n",
       "      <th>reviewer_id</th>\n",
       "      <th>reviewer_name</th>\n",
       "      <th>comments</th>\n",
       "    </tr>\n",
       "  </thead>\n",
       "  <tbody>\n",
       "    <tr>\n",
       "      <th>14355</th>\n",
       "      <td>1280092</td>\n",
       "      <td>523423704</td>\n",
       "      <td>2019-09-03</td>\n",
       "      <td>282934264</td>\n",
       "      <td>Mort</td>\n",
       "      <td>NaN</td>\n",
       "    </tr>\n",
       "    <tr>\n",
       "      <th>32916</th>\n",
       "      <td>4204367</td>\n",
       "      <td>405137738</td>\n",
       "      <td>2019-01-26</td>\n",
       "      <td>229134147</td>\n",
       "      <td>Clare</td>\n",
       "      <td>NaN</td>\n",
       "    </tr>\n",
       "    <tr>\n",
       "      <th>34540</th>\n",
       "      <td>4231934</td>\n",
       "      <td>709349150492130848</td>\n",
       "      <td>2022-09-05</td>\n",
       "      <td>169375026</td>\n",
       "      <td>Stephanie</td>\n",
       "      <td>NaN</td>\n",
       "    </tr>\n",
       "    <tr>\n",
       "      <th>46725</th>\n",
       "      <td>6717232</td>\n",
       "      <td>755095144634790339</td>\n",
       "      <td>2022-11-07</td>\n",
       "      <td>29922430</td>\n",
       "      <td>Rob</td>\n",
       "      <td>NaN</td>\n",
       "    </tr>\n",
       "    <tr>\n",
       "      <th>49411</th>\n",
       "      <td>7714880</td>\n",
       "      <td>657416910</td>\n",
       "      <td>2020-08-28</td>\n",
       "      <td>355574662</td>\n",
       "      <td>Brianna</td>\n",
       "      <td>NaN</td>\n",
       "    </tr>\n",
       "    <tr>\n",
       "      <th>...</th>\n",
       "      <td>...</td>\n",
       "      <td>...</td>\n",
       "      <td>...</td>\n",
       "      <td>...</td>\n",
       "      <td>...</td>\n",
       "      <td>...</td>\n",
       "    </tr>\n",
       "    <tr>\n",
       "      <th>371914</th>\n",
       "      <td>791264080712134738</td>\n",
       "      <td>937755310959753417</td>\n",
       "      <td>2023-07-17</td>\n",
       "      <td>248053965</td>\n",
       "      <td>Tiffany</td>\n",
       "      <td>NaN</td>\n",
       "    </tr>\n",
       "    <tr>\n",
       "      <th>372344</th>\n",
       "      <td>831021525157388935</td>\n",
       "      <td>984808339849399262</td>\n",
       "      <td>2023-09-20</td>\n",
       "      <td>343062683</td>\n",
       "      <td>Adriana</td>\n",
       "      <td>NaN</td>\n",
       "    </tr>\n",
       "    <tr>\n",
       "      <th>373561</th>\n",
       "      <td>834189964070397979</td>\n",
       "      <td>855842288088606322</td>\n",
       "      <td>2023-03-26</td>\n",
       "      <td>271271017</td>\n",
       "      <td>Dan</td>\n",
       "      <td>NaN</td>\n",
       "    </tr>\n",
       "    <tr>\n",
       "      <th>373829</th>\n",
       "      <td>851372053298535940</td>\n",
       "      <td>1018214617621038031</td>\n",
       "      <td>2023-11-05</td>\n",
       "      <td>452683687</td>\n",
       "      <td>Alex</td>\n",
       "      <td>NaN</td>\n",
       "    </tr>\n",
       "    <tr>\n",
       "      <th>376680</th>\n",
       "      <td>887772296458123770</td>\n",
       "      <td>947166943757206048</td>\n",
       "      <td>2023-07-30</td>\n",
       "      <td>65969718</td>\n",
       "      <td>Rachel</td>\n",
       "      <td>NaN</td>\n",
       "    </tr>\n",
       "  </tbody>\n",
       "</table>\n",
       "<p>103 rows × 6 columns</p>\n",
       "</div>"
      ],
      "text/plain": [
       "                listing_id                   id        date  reviewer_id  \\\n",
       "14355              1280092            523423704  2019-09-03    282934264   \n",
       "32916              4204367            405137738  2019-01-26    229134147   \n",
       "34540              4231934   709349150492130848  2022-09-05    169375026   \n",
       "46725              6717232   755095144634790339  2022-11-07     29922430   \n",
       "49411              7714880            657416910  2020-08-28    355574662   \n",
       "...                    ...                  ...         ...          ...   \n",
       "371914  791264080712134738   937755310959753417  2023-07-17    248053965   \n",
       "372344  831021525157388935   984808339849399262  2023-09-20    343062683   \n",
       "373561  834189964070397979   855842288088606322  2023-03-26    271271017   \n",
       "373829  851372053298535940  1018214617621038031  2023-11-05    452683687   \n",
       "376680  887772296458123770   947166943757206048  2023-07-30     65969718   \n",
       "\n",
       "       reviewer_name comments  \n",
       "14355           Mort      NaN  \n",
       "32916          Clare      NaN  \n",
       "34540      Stephanie      NaN  \n",
       "46725            Rob      NaN  \n",
       "49411        Brianna      NaN  \n",
       "...              ...      ...  \n",
       "371914       Tiffany      NaN  \n",
       "372344       Adriana      NaN  \n",
       "373561           Dan      NaN  \n",
       "373829          Alex      NaN  \n",
       "376680        Rachel      NaN  \n",
       "\n",
       "[103 rows x 6 columns]"
      ]
     },
     "execution_count": 199,
     "metadata": {},
     "output_type": "execute_result"
    }
   ],
   "source": [
    "# look at reviews that are null\n",
    "reviews2[reviews2['comments'].isnull()]\n",
    "# appears these are for reviews left that have no content in them (or maybe were images or videos that could not be \n",
    "# read in properly)"
   ]
  },
  {
   "cell_type": "code",
   "execution_count": 200,
   "id": "671735ce",
   "metadata": {},
   "outputs": [],
   "source": [
    "# might be value in the missing reviews (when comparing to listing_id) so will fill with 'missing'\n",
    "reviews2['comments'].fillna('missing', inplace=True)"
   ]
  },
  {
   "cell_type": "code",
   "execution_count": 201,
   "id": "785e7b0c",
   "metadata": {},
   "outputs": [
    {
     "data": {
      "text/plain": [
       "listing_id\n",
       "992247988704939487   -9220797083207812746\n",
       "53471128             -9209571609841868806\n",
       "773986570397336334   -9206651417031161988\n",
       "11299890             -9206306852254234409\n",
       "17303429             -9200437331014971640\n",
       "                             ...         \n",
       "2111965               9200164950497025644\n",
       "842857318178837612    9200745504520215310\n",
       "22062712              9203018328890177199\n",
       "35281469              9204434994274303683\n",
       "41838130              9221308560254334680\n",
       "Name: id, Length: 5365, dtype: int64"
      ]
     },
     "execution_count": 201,
     "metadata": {},
     "output_type": "execute_result"
    }
   ],
   "source": [
    "# all reviews in this dataset have a listing id tied to them\n",
    "reviews2['id'].groupby(by=reviews2['listing_id']).sum().sort_values()"
   ]
  },
  {
   "cell_type": "code",
   "execution_count": 202,
   "id": "65ffd654",
   "metadata": {},
   "outputs": [
    {
     "data": {
      "text/plain": [
       "5365"
      ]
     },
     "execution_count": 202,
     "metadata": {},
     "output_type": "execute_result"
    }
   ],
   "source": [
    "# there are 5365 unique listing ids in the reviews dataset\n",
    "reviews2['listing_id'].nunique()"
   ]
  },
  {
   "cell_type": "code",
   "execution_count": 203,
   "id": "3784fcd8",
   "metadata": {},
   "outputs": [],
   "source": [
    "# read in listings dataset for comparison\n",
    "listings = pd.read_csv('/Users/polska2207/Downloads/reviews2.csv')"
   ]
  },
  {
   "cell_type": "code",
   "execution_count": 204,
   "id": "34a1c438",
   "metadata": {},
   "outputs": [],
   "source": [
    "# read in listings dataset for comparison\n",
    "listings = pd.read_csv('/Users/polska2207/Downloads/reviews2.csv')"
   ]
  },
  {
   "cell_type": "code",
   "execution_count": 205,
   "id": "3d6859a3",
   "metadata": {},
   "outputs": [
    {
     "data": {
      "text/plain": [
       "382008"
      ]
     },
     "execution_count": 205,
     "metadata": {},
     "output_type": "execute_result"
    }
   ],
   "source": [
    "listings['id'].nunique()\n",
    "# Some listings do not have reviews\n",
    "# All reviews in the reviews dataset have reviews listed, however some of the listings in the listings dataset are not\n",
    "# in the reviews dataset. "
   ]
  },
  {
   "cell_type": "code",
   "execution_count": 206,
   "id": "5c95534a",
   "metadata": {},
   "outputs": [
    {
     "data": {
      "text/plain": [
       "376643"
      ]
     },
     "execution_count": 206,
     "metadata": {},
     "output_type": "execute_result"
    }
   ],
   "source": [
    "382008 - 5365\n",
    "# 376643 listings without reviews"
   ]
  },
  {
   "cell_type": "code",
   "execution_count": 207,
   "id": "1895bab2",
   "metadata": {},
   "outputs": [
    {
     "data": {
      "text/plain": [
       "0.9859557915017486"
      ]
     },
     "execution_count": 207,
     "metadata": {},
     "output_type": "execute_result"
    }
   ],
   "source": [
    "376643 / 382008\n",
    "# percentage of listings without reviews"
   ]
  },
  {
   "cell_type": "code",
   "execution_count": 208,
   "id": "d6a9fec6",
   "metadata": {},
   "outputs": [
    {
     "data": {
      "text/html": [
       "<div>\n",
       "<style scoped>\n",
       "    .dataframe tbody tr th:only-of-type {\n",
       "        vertical-align: middle;\n",
       "    }\n",
       "\n",
       "    .dataframe tbody tr th {\n",
       "        vertical-align: top;\n",
       "    }\n",
       "\n",
       "    .dataframe thead th {\n",
       "        text-align: right;\n",
       "    }\n",
       "</style>\n",
       "<table border=\"1\" class=\"dataframe\">\n",
       "  <thead>\n",
       "    <tr style=\"text-align: right;\">\n",
       "      <th></th>\n",
       "      <th>listing_id</th>\n",
       "      <th>id</th>\n",
       "      <th>date</th>\n",
       "      <th>reviewer_id</th>\n",
       "      <th>reviewer_name</th>\n",
       "      <th>comments</th>\n",
       "    </tr>\n",
       "  </thead>\n",
       "  <tbody>\n",
       "    <tr>\n",
       "      <th>16665</th>\n",
       "      <td>2111965</td>\n",
       "      <td>1037000425383388627</td>\n",
       "      <td>2023-12-01</td>\n",
       "      <td>397378673</td>\n",
       "      <td>Cyrus</td>\n",
       "      <td>It’s a bedroom in a 2 story house. Every room ...</td>\n",
       "    </tr>\n",
       "    <tr>\n",
       "      <th>19228</th>\n",
       "      <td>1488282</td>\n",
       "      <td>1037023293136765609</td>\n",
       "      <td>2023-12-01</td>\n",
       "      <td>428667460</td>\n",
       "      <td>Angela</td>\n",
       "      <td>We had a great stay here while visiting DC. It...</td>\n",
       "    </tr>\n",
       "    <tr>\n",
       "      <th>33826</th>\n",
       "      <td>4343926</td>\n",
       "      <td>1037020230953985700</td>\n",
       "      <td>2023-12-01</td>\n",
       "      <td>466101622</td>\n",
       "      <td>Zifeng</td>\n",
       "      <td>Hosts are nice. A quite place in the evening</td>\n",
       "    </tr>\n",
       "    <tr>\n",
       "      <th>37438</th>\n",
       "      <td>2538828</td>\n",
       "      <td>1037092537418888618</td>\n",
       "      <td>2023-12-01</td>\n",
       "      <td>44090788</td>\n",
       "      <td>Steve</td>\n",
       "      <td>Wonderful neighborhood. Spacious basement/gard...</td>\n",
       "    </tr>\n",
       "    <tr>\n",
       "      <th>48783</th>\n",
       "      <td>7714870</td>\n",
       "      <td>1037007421396568971</td>\n",
       "      <td>2023-12-01</td>\n",
       "      <td>68751545</td>\n",
       "      <td>Katherine</td>\n",
       "      <td>Cute lil room.  Thermostat took a while to hea...</td>\n",
       "    </tr>\n",
       "    <tr>\n",
       "      <th>...</th>\n",
       "      <td>...</td>\n",
       "      <td>...</td>\n",
       "      <td>...</td>\n",
       "      <td>...</td>\n",
       "      <td>...</td>\n",
       "      <td>...</td>\n",
       "    </tr>\n",
       "    <tr>\n",
       "      <th>381764</th>\n",
       "      <td>1005799808157085162</td>\n",
       "      <td>1037065432961561610</td>\n",
       "      <td>2023-12-01</td>\n",
       "      <td>97387152</td>\n",
       "      <td>Yesenia</td>\n",
       "      <td>Spacious, well designed, modern, and highly co...</td>\n",
       "    </tr>\n",
       "    <tr>\n",
       "      <th>381807</th>\n",
       "      <td>1007405045646422516</td>\n",
       "      <td>1037035321243280950</td>\n",
       "      <td>2023-12-01</td>\n",
       "      <td>214126</td>\n",
       "      <td>A.J.</td>\n",
       "      <td>It's a really beautiful &amp; comfortable space, c...</td>\n",
       "    </tr>\n",
       "    <tr>\n",
       "      <th>381827</th>\n",
       "      <td>1026106252087215196</td>\n",
       "      <td>1037025738198960205</td>\n",
       "      <td>2023-12-01</td>\n",
       "      <td>32875299</td>\n",
       "      <td>Harri</td>\n",
       "      <td>Great host, I am a happy returning guest.</td>\n",
       "    </tr>\n",
       "    <tr>\n",
       "      <th>381832</th>\n",
       "      <td>1026728933602195009</td>\n",
       "      <td>1037008831898012578</td>\n",
       "      <td>2023-12-01</td>\n",
       "      <td>113866030</td>\n",
       "      <td>Tanya</td>\n",
       "      <td>I can't say enough great things about our stay...</td>\n",
       "    </tr>\n",
       "    <tr>\n",
       "      <th>381897</th>\n",
       "      <td>1028238262419860993</td>\n",
       "      <td>1037027126721200848</td>\n",
       "      <td>2023-12-01</td>\n",
       "      <td>266783568</td>\n",
       "      <td>Laura</td>\n",
       "      <td>The unit was beautifully decorated, incredibly...</td>\n",
       "    </tr>\n",
       "  </tbody>\n",
       "</table>\n",
       "<p>123 rows × 6 columns</p>\n",
       "</div>"
      ],
      "text/plain": [
       "                 listing_id                   id        date  reviewer_id  \\\n",
       "16665               2111965  1037000425383388627  2023-12-01    397378673   \n",
       "19228               1488282  1037023293136765609  2023-12-01    428667460   \n",
       "33826               4343926  1037020230953985700  2023-12-01    466101622   \n",
       "37438               2538828  1037092537418888618  2023-12-01     44090788   \n",
       "48783               7714870  1037007421396568971  2023-12-01     68751545   \n",
       "...                     ...                  ...         ...          ...   \n",
       "381764  1005799808157085162  1037065432961561610  2023-12-01     97387152   \n",
       "381807  1007405045646422516  1037035321243280950  2023-12-01       214126   \n",
       "381827  1026106252087215196  1037025738198960205  2023-12-01     32875299   \n",
       "381832  1026728933602195009  1037008831898012578  2023-12-01    113866030   \n",
       "381897  1028238262419860993  1037027126721200848  2023-12-01    266783568   \n",
       "\n",
       "       reviewer_name                                           comments  \n",
       "16665          Cyrus  It’s a bedroom in a 2 story house. Every room ...  \n",
       "19228         Angela  We had a great stay here while visiting DC. It...  \n",
       "33826         Zifeng       Hosts are nice. A quite place in the evening  \n",
       "37438          Steve  Wonderful neighborhood. Spacious basement/gard...  \n",
       "48783      Katherine  Cute lil room.  Thermostat took a while to hea...  \n",
       "...              ...                                                ...  \n",
       "381764       Yesenia  Spacious, well designed, modern, and highly co...  \n",
       "381807          A.J.  It's a really beautiful & comfortable space, c...  \n",
       "381827         Harri          Great host, I am a happy returning guest.  \n",
       "381832         Tanya  I can't say enough great things about our stay...  \n",
       "381897         Laura  The unit was beautifully decorated, incredibly...  \n",
       "\n",
       "[123 rows x 6 columns]"
      ]
     },
     "execution_count": 208,
     "metadata": {},
     "output_type": "execute_result"
    }
   ],
   "source": [
    "# Looking at how many reviews are listed for a single date\n",
    "reviews2[reviews2['date'] == '2023-12-01']"
   ]
  },
  {
   "cell_type": "code",
   "execution_count": 209,
   "id": "fceb7df6",
   "metadata": {},
   "outputs": [
    {
     "data": {
      "text/plain": [
       "date\n",
       "2009-05-10      1\n",
       "2011-09-10      1\n",
       "2011-09-06      1\n",
       "2013-01-31      1\n",
       "2011-09-04      1\n",
       "             ... \n",
       "2023-05-01    550\n",
       "2023-04-16    572\n",
       "2023-04-23    578\n",
       "2023-11-05    593\n",
       "2023-10-22    627\n",
       "Name: comments, Length: 4611, dtype: int64"
      ]
     },
     "execution_count": 209,
     "metadata": {},
     "output_type": "execute_result"
    }
   ],
   "source": [
    "# looking at count of reviews for each date\n",
    "rev_by_date = reviews2.groupby('date')['comments'].count()\n",
    "\n",
    "rev_by_date.sort_values()"
   ]
  },
  {
   "cell_type": "code",
   "execution_count": 210,
   "id": "3a145d39",
   "metadata": {},
   "outputs": [
    {
     "data": {
      "text/plain": [
       "dtype('int64')"
      ]
     },
     "execution_count": 210,
     "metadata": {},
     "output_type": "execute_result"
    }
   ],
   "source": [
    "rev_by_date.dtypes"
   ]
  },
  {
   "cell_type": "code",
   "execution_count": 211,
   "id": "76f8223d",
   "metadata": {},
   "outputs": [
    {
     "data": {
      "text/html": [
       "<div>\n",
       "<style scoped>\n",
       "    .dataframe tbody tr th:only-of-type {\n",
       "        vertical-align: middle;\n",
       "    }\n",
       "\n",
       "    .dataframe tbody tr th {\n",
       "        vertical-align: top;\n",
       "    }\n",
       "\n",
       "    .dataframe thead th {\n",
       "        text-align: right;\n",
       "    }\n",
       "</style>\n",
       "<table border=\"1\" class=\"dataframe\">\n",
       "  <thead>\n",
       "    <tr style=\"text-align: right;\">\n",
       "      <th></th>\n",
       "      <th>comments</th>\n",
       "    </tr>\n",
       "    <tr>\n",
       "      <th>date</th>\n",
       "      <th></th>\n",
       "    </tr>\n",
       "  </thead>\n",
       "  <tbody>\n",
       "    <tr>\n",
       "      <th>2009-05-10</th>\n",
       "      <td>1</td>\n",
       "    </tr>\n",
       "    <tr>\n",
       "      <th>2009-05-14</th>\n",
       "      <td>1</td>\n",
       "    </tr>\n",
       "    <tr>\n",
       "      <th>2009-05-21</th>\n",
       "      <td>1</td>\n",
       "    </tr>\n",
       "    <tr>\n",
       "      <th>2009-05-28</th>\n",
       "      <td>1</td>\n",
       "    </tr>\n",
       "    <tr>\n",
       "      <th>2009-06-04</th>\n",
       "      <td>1</td>\n",
       "    </tr>\n",
       "    <tr>\n",
       "      <th>...</th>\n",
       "      <td>...</td>\n",
       "    </tr>\n",
       "    <tr>\n",
       "      <th>2023-12-13</th>\n",
       "      <td>71</td>\n",
       "    </tr>\n",
       "    <tr>\n",
       "      <th>2023-12-14</th>\n",
       "      <td>58</td>\n",
       "    </tr>\n",
       "    <tr>\n",
       "      <th>2023-12-15</th>\n",
       "      <td>65</td>\n",
       "    </tr>\n",
       "    <tr>\n",
       "      <th>2023-12-16</th>\n",
       "      <td>43</td>\n",
       "    </tr>\n",
       "    <tr>\n",
       "      <th>2023-12-17</th>\n",
       "      <td>59</td>\n",
       "    </tr>\n",
       "  </tbody>\n",
       "</table>\n",
       "<p>4611 rows × 1 columns</p>\n",
       "</div>"
      ],
      "text/plain": [
       "            comments\n",
       "date                \n",
       "2009-05-10         1\n",
       "2009-05-14         1\n",
       "2009-05-21         1\n",
       "2009-05-28         1\n",
       "2009-06-04         1\n",
       "...              ...\n",
       "2023-12-13        71\n",
       "2023-12-14        58\n",
       "2023-12-15        65\n",
       "2023-12-16        43\n",
       "2023-12-17        59\n",
       "\n",
       "[4611 rows x 1 columns]"
      ]
     },
     "execution_count": 211,
     "metadata": {},
     "output_type": "execute_result"
    }
   ],
   "source": [
    "# Create a dataframe of the review counts by date\n",
    "rev_by_date = pd.DataFrame(rev_by_date)\n",
    "rev_by_date"
   ]
  },
  {
   "cell_type": "code",
   "execution_count": 212,
   "id": "ea465cb2",
   "metadata": {},
   "outputs": [
    {
     "data": {
      "text/plain": [
       "comments    int64\n",
       "dtype: object"
      ]
     },
     "execution_count": 212,
     "metadata": {},
     "output_type": "execute_result"
    }
   ],
   "source": [
    "rev_by_date.dtypes"
   ]
  },
  {
   "cell_type": "code",
   "execution_count": 213,
   "id": "174df7ed",
   "metadata": {},
   "outputs": [
    {
     "data": {
      "text/html": [
       "<div>\n",
       "<style scoped>\n",
       "    .dataframe tbody tr th:only-of-type {\n",
       "        vertical-align: middle;\n",
       "    }\n",
       "\n",
       "    .dataframe tbody tr th {\n",
       "        vertical-align: top;\n",
       "    }\n",
       "\n",
       "    .dataframe thead th {\n",
       "        text-align: right;\n",
       "    }\n",
       "</style>\n",
       "<table border=\"1\" class=\"dataframe\">\n",
       "  <thead>\n",
       "    <tr style=\"text-align: right;\">\n",
       "      <th></th>\n",
       "      <th>comments</th>\n",
       "    </tr>\n",
       "    <tr>\n",
       "      <th>date</th>\n",
       "      <th></th>\n",
       "    </tr>\n",
       "  </thead>\n",
       "  <tbody>\n",
       "    <tr>\n",
       "      <th>2009-05-10</th>\n",
       "      <td>1</td>\n",
       "    </tr>\n",
       "    <tr>\n",
       "      <th>2009-05-14</th>\n",
       "      <td>1</td>\n",
       "    </tr>\n",
       "    <tr>\n",
       "      <th>2009-05-21</th>\n",
       "      <td>1</td>\n",
       "    </tr>\n",
       "    <tr>\n",
       "      <th>2009-05-28</th>\n",
       "      <td>1</td>\n",
       "    </tr>\n",
       "    <tr>\n",
       "      <th>2009-06-04</th>\n",
       "      <td>1</td>\n",
       "    </tr>\n",
       "    <tr>\n",
       "      <th>...</th>\n",
       "      <td>...</td>\n",
       "    </tr>\n",
       "    <tr>\n",
       "      <th>2023-12-13</th>\n",
       "      <td>71</td>\n",
       "    </tr>\n",
       "    <tr>\n",
       "      <th>2023-12-14</th>\n",
       "      <td>58</td>\n",
       "    </tr>\n",
       "    <tr>\n",
       "      <th>2023-12-15</th>\n",
       "      <td>65</td>\n",
       "    </tr>\n",
       "    <tr>\n",
       "      <th>2023-12-16</th>\n",
       "      <td>43</td>\n",
       "    </tr>\n",
       "    <tr>\n",
       "      <th>2023-12-17</th>\n",
       "      <td>59</td>\n",
       "    </tr>\n",
       "  </tbody>\n",
       "</table>\n",
       "<p>4611 rows × 1 columns</p>\n",
       "</div>"
      ],
      "text/plain": [
       "            comments\n",
       "date                \n",
       "2009-05-10         1\n",
       "2009-05-14         1\n",
       "2009-05-21         1\n",
       "2009-05-28         1\n",
       "2009-06-04         1\n",
       "...              ...\n",
       "2023-12-13        71\n",
       "2023-12-14        58\n",
       "2023-12-15        65\n",
       "2023-12-16        43\n",
       "2023-12-17        59\n",
       "\n",
       "[4611 rows x 1 columns]"
      ]
     },
     "execution_count": 213,
     "metadata": {},
     "output_type": "execute_result"
    }
   ],
   "source": [
    "rev_by_date.index =  pd.to_datetime(rev_by_date.index, format='%Y-%m-%d')\n",
    "rev_by_date.sort_index()"
   ]
  },
  {
   "cell_type": "code",
   "execution_count": 214,
   "id": "d985957e",
   "metadata": {},
   "outputs": [
    {
     "data": {
      "text/html": [
       "<div>\n",
       "<style scoped>\n",
       "    .dataframe tbody tr th:only-of-type {\n",
       "        vertical-align: middle;\n",
       "    }\n",
       "\n",
       "    .dataframe tbody tr th {\n",
       "        vertical-align: top;\n",
       "    }\n",
       "\n",
       "    .dataframe thead th {\n",
       "        text-align: right;\n",
       "    }\n",
       "</style>\n",
       "<table border=\"1\" class=\"dataframe\">\n",
       "  <thead>\n",
       "    <tr style=\"text-align: right;\">\n",
       "      <th></th>\n",
       "      <th>comments</th>\n",
       "      <th>Year</th>\n",
       "    </tr>\n",
       "    <tr>\n",
       "      <th>date</th>\n",
       "      <th></th>\n",
       "      <th></th>\n",
       "    </tr>\n",
       "  </thead>\n",
       "  <tbody>\n",
       "    <tr>\n",
       "      <th>2009-05-10</th>\n",
       "      <td>1</td>\n",
       "      <td>2009</td>\n",
       "    </tr>\n",
       "    <tr>\n",
       "      <th>2009-05-14</th>\n",
       "      <td>1</td>\n",
       "      <td>2009</td>\n",
       "    </tr>\n",
       "    <tr>\n",
       "      <th>2009-05-21</th>\n",
       "      <td>1</td>\n",
       "      <td>2009</td>\n",
       "    </tr>\n",
       "    <tr>\n",
       "      <th>2009-05-28</th>\n",
       "      <td>1</td>\n",
       "      <td>2009</td>\n",
       "    </tr>\n",
       "    <tr>\n",
       "      <th>2009-06-04</th>\n",
       "      <td>1</td>\n",
       "      <td>2009</td>\n",
       "    </tr>\n",
       "    <tr>\n",
       "      <th>...</th>\n",
       "      <td>...</td>\n",
       "      <td>...</td>\n",
       "    </tr>\n",
       "    <tr>\n",
       "      <th>2023-12-13</th>\n",
       "      <td>71</td>\n",
       "      <td>2023</td>\n",
       "    </tr>\n",
       "    <tr>\n",
       "      <th>2023-12-14</th>\n",
       "      <td>58</td>\n",
       "      <td>2023</td>\n",
       "    </tr>\n",
       "    <tr>\n",
       "      <th>2023-12-15</th>\n",
       "      <td>65</td>\n",
       "      <td>2023</td>\n",
       "    </tr>\n",
       "    <tr>\n",
       "      <th>2023-12-16</th>\n",
       "      <td>43</td>\n",
       "      <td>2023</td>\n",
       "    </tr>\n",
       "    <tr>\n",
       "      <th>2023-12-17</th>\n",
       "      <td>59</td>\n",
       "      <td>2023</td>\n",
       "    </tr>\n",
       "  </tbody>\n",
       "</table>\n",
       "<p>4611 rows × 2 columns</p>\n",
       "</div>"
      ],
      "text/plain": [
       "            comments  Year\n",
       "date                      \n",
       "2009-05-10         1  2009\n",
       "2009-05-14         1  2009\n",
       "2009-05-21         1  2009\n",
       "2009-05-28         1  2009\n",
       "2009-06-04         1  2009\n",
       "...              ...   ...\n",
       "2023-12-13        71  2023\n",
       "2023-12-14        58  2023\n",
       "2023-12-15        65  2023\n",
       "2023-12-16        43  2023\n",
       "2023-12-17        59  2023\n",
       "\n",
       "[4611 rows x 2 columns]"
      ]
     },
     "execution_count": 214,
     "metadata": {},
     "output_type": "execute_result"
    }
   ],
   "source": [
    "rev_by_date[\"Year\"] = rev_by_date.index\n",
    "rev_by_date[\"Year\"] = rev_by_date[\"Year\"].dt.year\n",
    "rev_by_date"
   ]
  },
  {
   "cell_type": "code",
   "execution_count": 215,
   "id": "ab3501d2",
   "metadata": {
    "scrolled": true
   },
   "outputs": [
    {
     "data": {
      "text/plain": [
       "Year\n",
       "2009      1.062500\n",
       "2010      1.322314\n",
       "2011      1.678899\n",
       "2012      2.496552\n",
       "2013      4.014793\n",
       "2014      8.063712\n",
       "2015     18.211111\n",
       "2016     38.407104\n",
       "2017     71.865753\n",
       "2018    104.247253\n",
       "2019    142.821918\n",
       "2020     67.215847\n",
       "2021    130.649315\n",
       "2022    210.071233\n",
       "2023    258.088319\n",
       "Name: comments, dtype: float64"
      ]
     },
     "execution_count": 215,
     "metadata": {},
     "output_type": "execute_result"
    }
   ],
   "source": [
    "df_avg = rev_by_date.groupby(\"Year\")[\"comments\"].mean()\n",
    "df_avg"
   ]
  },
  {
   "cell_type": "code",
   "execution_count": 216,
   "id": "a96b1ef4",
   "metadata": {},
   "outputs": [
    {
     "data": {
      "text/html": [
       "<div>\n",
       "<style scoped>\n",
       "    .dataframe tbody tr th:only-of-type {\n",
       "        vertical-align: middle;\n",
       "    }\n",
       "\n",
       "    .dataframe tbody tr th {\n",
       "        vertical-align: top;\n",
       "    }\n",
       "\n",
       "    .dataframe thead th {\n",
       "        text-align: right;\n",
       "    }\n",
       "</style>\n",
       "<table border=\"1\" class=\"dataframe\">\n",
       "  <thead>\n",
       "    <tr style=\"text-align: right;\">\n",
       "      <th></th>\n",
       "      <th>comments</th>\n",
       "    </tr>\n",
       "    <tr>\n",
       "      <th>Year</th>\n",
       "      <th></th>\n",
       "    </tr>\n",
       "  </thead>\n",
       "  <tbody>\n",
       "    <tr>\n",
       "      <th>2009</th>\n",
       "      <td>1.062500</td>\n",
       "    </tr>\n",
       "    <tr>\n",
       "      <th>2010</th>\n",
       "      <td>1.322314</td>\n",
       "    </tr>\n",
       "    <tr>\n",
       "      <th>2011</th>\n",
       "      <td>1.678899</td>\n",
       "    </tr>\n",
       "    <tr>\n",
       "      <th>2012</th>\n",
       "      <td>2.496552</td>\n",
       "    </tr>\n",
       "    <tr>\n",
       "      <th>2013</th>\n",
       "      <td>4.014793</td>\n",
       "    </tr>\n",
       "    <tr>\n",
       "      <th>2014</th>\n",
       "      <td>8.063712</td>\n",
       "    </tr>\n",
       "    <tr>\n",
       "      <th>2015</th>\n",
       "      <td>18.211111</td>\n",
       "    </tr>\n",
       "    <tr>\n",
       "      <th>2016</th>\n",
       "      <td>38.407104</td>\n",
       "    </tr>\n",
       "    <tr>\n",
       "      <th>2017</th>\n",
       "      <td>71.865753</td>\n",
       "    </tr>\n",
       "    <tr>\n",
       "      <th>2018</th>\n",
       "      <td>104.247253</td>\n",
       "    </tr>\n",
       "    <tr>\n",
       "      <th>2019</th>\n",
       "      <td>142.821918</td>\n",
       "    </tr>\n",
       "    <tr>\n",
       "      <th>2020</th>\n",
       "      <td>67.215847</td>\n",
       "    </tr>\n",
       "    <tr>\n",
       "      <th>2021</th>\n",
       "      <td>130.649315</td>\n",
       "    </tr>\n",
       "    <tr>\n",
       "      <th>2022</th>\n",
       "      <td>210.071233</td>\n",
       "    </tr>\n",
       "    <tr>\n",
       "      <th>2023</th>\n",
       "      <td>258.088319</td>\n",
       "    </tr>\n",
       "  </tbody>\n",
       "</table>\n",
       "</div>"
      ],
      "text/plain": [
       "        comments\n",
       "Year            \n",
       "2009    1.062500\n",
       "2010    1.322314\n",
       "2011    1.678899\n",
       "2012    2.496552\n",
       "2013    4.014793\n",
       "2014    8.063712\n",
       "2015   18.211111\n",
       "2016   38.407104\n",
       "2017   71.865753\n",
       "2018  104.247253\n",
       "2019  142.821918\n",
       "2020   67.215847\n",
       "2021  130.649315\n",
       "2022  210.071233\n",
       "2023  258.088319"
      ]
     },
     "execution_count": 216,
     "metadata": {},
     "output_type": "execute_result"
    }
   ],
   "source": [
    "# convert to dataframe\n",
    "avg_daily_revs_avg = pd.DataFrame(df_avg)\n",
    "avg_daily_revs_avg"
   ]
  },
  {
   "cell_type": "code",
   "execution_count": 217,
   "id": "84f82e4b",
   "metadata": {},
   "outputs": [
    {
     "data": {
      "text/plain": [
       "date\n",
       "2009-05-10      1\n",
       "2011-09-10      1\n",
       "2011-09-06      1\n",
       "2013-01-31      1\n",
       "2011-09-04      1\n",
       "             ... \n",
       "2023-05-01    550\n",
       "2023-04-16    572\n",
       "2023-04-23    578\n",
       "2023-11-05    593\n",
       "2023-10-22    627\n",
       "Name: comments, Length: 4611, dtype: int64"
      ]
     },
     "execution_count": 217,
     "metadata": {},
     "output_type": "execute_result"
    }
   ],
   "source": [
    "# which date had the most reviews\n",
    "rev_by_date['comments'].sort_values()"
   ]
  },
  {
   "cell_type": "code",
   "execution_count": 218,
   "id": "ede6ef35",
   "metadata": {},
   "outputs": [
    {
     "data": {
      "text/plain": [
       "2023-10-22    627\n",
       "2023-11-05    593\n",
       "2023-04-23    578\n",
       "2023-04-16    572\n",
       "2023-05-01    550\n",
       "             ... \n",
       "2010-10-01      1\n",
       "2010-10-13      1\n",
       "2013-02-16      1\n",
       "2013-01-26      1\n",
       "2012-12-20      1\n",
       "Name: date, Length: 4611, dtype: int64"
      ]
     },
     "execution_count": 218,
     "metadata": {},
     "output_type": "execute_result"
    }
   ],
   "source": [
    "# Look at number of reviews per date\n",
    "reviews2['date'].value_counts()\n"
   ]
  },
  {
   "cell_type": "code",
   "execution_count": 219,
   "id": "886e5cb3",
   "metadata": {},
   "outputs": [
    {
     "data": {
      "text/plain": [
       "9189"
      ]
     },
     "execution_count": 219,
     "metadata": {},
     "output_type": "execute_result"
    }
   ],
   "source": [
    "# Does increase in reviews equate to increase in listings?\n",
    "# read in calendar datasets to get listing counts (2023)\n",
    "calendar_2023 = pd.read_csv('/Users/polska2207/Downloads/calendar.csv')\n",
    "calendar_2023['listing_id'].nunique()"
   ]
  },
  {
   "cell_type": "code",
   "execution_count": 220,
   "id": "8dfaa5c0",
   "metadata": {},
   "outputs": [
    {
     "data": {
      "text/plain": [
       "9189"
      ]
     },
     "execution_count": 220,
     "metadata": {},
     "output_type": "execute_result"
    }
   ],
   "source": [
    "# read in calendar datasets to get listing counts 2023\n",
    "calendar = pd.read_csv('/Users/polska2207/Downloads/calendar.csv')\n",
    "calendar['listing_id'].nunique()"
   ]
  },
  {
   "cell_type": "code",
   "execution_count": 221,
   "id": "8bb84669",
   "metadata": {},
   "outputs": [
    {
     "data": {
      "text/plain": [
       "<bound method IndexOpsMixin.nunique of 0              3344\n",
       "1              3344\n",
       "2              3344\n",
       "3              3344\n",
       "4              3344\n",
       "             ...   \n",
       "3354065    38478357\n",
       "3354066    38478357\n",
       "3354067    38478357\n",
       "3354068    38478357\n",
       "3354069    38478357\n",
       "Name: listing_id, Length: 3354070, dtype: int64>"
      ]
     },
     "execution_count": 221,
     "metadata": {},
     "output_type": "execute_result"
    }
   ],
   "source": [
    "# read in calendar datasets to get listing counts 2023\n",
    "calendar_23 = pd.read_csv('/Users/polska2207/Downloads/calendar.csv')\n",
    "calendar_23['listing_id'].nunique"
   ]
  },
  {
   "cell_type": "code",
   "execution_count": 222,
   "id": "7b3c5e9c",
   "metadata": {},
   "outputs": [
    {
     "data": {
      "text/html": [
       "<div>\n",
       "<style scoped>\n",
       "    .dataframe tbody tr th:only-of-type {\n",
       "        vertical-align: middle;\n",
       "    }\n",
       "\n",
       "    .dataframe tbody tr th {\n",
       "        vertical-align: top;\n",
       "    }\n",
       "\n",
       "    .dataframe thead th {\n",
       "        text-align: right;\n",
       "    }\n",
       "</style>\n",
       "<table border=\"1\" class=\"dataframe\">\n",
       "  <thead>\n",
       "    <tr style=\"text-align: right;\">\n",
       "      <th></th>\n",
       "      <th>year</th>\n",
       "      <th>num_listings</th>\n",
       "    </tr>\n",
       "  </thead>\n",
       "  <tbody>\n",
       "    <tr>\n",
       "      <th>0</th>\n",
       "      <td>2020</td>\n",
       "      <td>3723</td>\n",
       "    </tr>\n",
       "    <tr>\n",
       "      <th>1</th>\n",
       "      <td>2021</td>\n",
       "      <td>7868</td>\n",
       "    </tr>\n",
       "    <tr>\n",
       "      <th>2</th>\n",
       "      <td>2022</td>\n",
       "      <td>9182</td>\n",
       "    </tr>\n",
       "    <tr>\n",
       "      <th>3</th>\n",
       "      <td>2023</td>\n",
       "      <td>9189</td>\n",
       "    </tr>\n",
       "  </tbody>\n",
       "</table>\n",
       "</div>"
      ],
      "text/plain": [
       "   year  num_listings\n",
       "0  2020          3723\n",
       "1  2021          7868\n",
       "2  2022          9182\n",
       "3  2023          9189"
      ]
     },
     "execution_count": 222,
     "metadata": {},
     "output_type": "execute_result"
    }
   ],
   "source": [
    "# create a dataframe of the listings count data\n",
    "cal_data = {'year': [2020, 2021, 2022, 2023],\n",
    "           'num_listings': [3723, 7868, 9182, 9189]}\n",
    "cal_df = pd.DataFrame(cal_data, columns=['year', 'num_listings'])\n",
    "cal_df"
   ]
  },
  {
   "cell_type": "code",
   "execution_count": 223,
   "id": "7e1b6794",
   "metadata": {},
   "outputs": [],
   "source": [
    "# set the year as the index\n",
    "cal_df.set_index('year', inplace=True)"
   ]
  },
  {
   "cell_type": "code",
   "execution_count": 224,
   "id": "ef2aeadf",
   "metadata": {},
   "outputs": [
    {
     "data": {
      "image/png": "[encoded data removed]",
      "text/plain": [
       "<Figure size 1400x800 with 1 Axes>"
      ]
     },
     "metadata": {},
     "output_type": "display_data"
    }
   ],
   "source": [
    "# plot the listings count over time\n",
    "plt.figure(figsize=(14, 8))\n",
    "\n",
    "plt.plot(cal_df, color='#FF5A5F')\n",
    "\n",
    "plt.xticks(ticks=[2020, 2021, 2022, 2023, 2024])\n",
    "\n",
    "plt.xlabel('Year', fontdict={'fontsize': 14})\n",
    "plt.ylabel('Number of Listings', fontdict={'fontsize': 14})\n",
    "plt.title('Number of Listings in D.C. has Increased Over Time', fontdict={'fontsize': 24});"
   ]
  },
  {
   "cell_type": "code",
   "execution_count": 225,
   "id": "7b4b24b1",
   "metadata": {},
   "outputs": [],
   "source": [
    "# Transfor Review Text\n",
    "# define function to clean review text\n",
    "def clean_text(df, text):\n",
    "    df[text] = df[text].str.replace(\"won\\'t\", \"will not\")\n",
    "    df[text] = df[text].str.replace(\"can\\'t\", \"can not\")\n",
    "    df[text] = df[text].str.replace(\"n\\'t\", \" not\")\n",
    "    df[text] = df[text].str.replace(\"\\'re\", \" are\")\n",
    "    df[text] = df[text].str.replace(\"\\'s\", \" is\")\n",
    "    df[text] = df[text].str.replace(\"\\'d\", \" would\")\n",
    "    df[text] = df[text].str.replace(\"\\'ll\", \" will\")\n",
    "    df[text] = df[text].str.replace(\"\\'t\", \" not\")\n",
    "    df[text] = df[text].str.replace(\"\\'ve\", \" have\")\n",
    "    df[text] = df[text].str.replace(\"\\'m\", \" am\")\n",
    "    df[text] = df[text].str.replace('\\r', '')\n",
    "    df[text] = df[text].str.replace('\\n', '')\n",
    "    df[text] = df[text].str.replace(',', '')\n",
    "    df[text] = df[text].str.replace('!', ' ')\n",
    "    df[text] = df[text].str.replace('.', ' ')\n",
    "    df[text] = df[text].str.replace('\\'', '')\n",
    "    df[text] = df[text].str.replace(';', '')\n",
    "    df[text] = df[text].str.replace('-', '')\n",
    "    df[text] = df[text].str.replace('(', '')\n",
    "    df[text] = df[text].str.replace(')', '')\n",
    "    df[text] = df[text].str.replace('--', '')\n",
    "    df[text] = df[text].str.replace('---', '')\n",
    "    df[text] = df[text].str.replace('?', ' ')\n",
    "    df[text] = df[text].str.lower()\n",
    "    return df"
   ]
  },
  {
   "cell_type": "code",
   "execution_count": 226,
   "id": "071e5f60",
   "metadata": {},
   "outputs": [
    {
     "data": {
      "text/plain": [
       "\"Staying with Levita and her wonderful family was an amazing experience. They were so welcoming to me and her home was great. I cannot express enough how nice my experience was. Not only is Levita's home very close to the metro, extremely comfortable, but her vegan cooking was incredible as well. Anyone would be lucky to stay with such a friendly, welcoming family.\""
      ]
     },
     "execution_count": 226,
     "metadata": {},
     "output_type": "execute_result"
    }
   ],
   "source": [
    "# check review\n",
    "reviews2['comments'][0]"
   ]
  },
  {
   "cell_type": "code",
   "execution_count": 227,
   "id": "c3f8d928",
   "metadata": {},
   "outputs": [
    {
     "name": "stderr",
     "output_type": "stream",
     "text": [
      "C:\\Users\\polska2207\\AppData\\Local\\Temp\\ipykernel_2840\\3507607243.py:18: FutureWarning: The default value of regex will change from True to False in a future version. In addition, single character regular expressions will *not* be treated as literal strings when regex=True.\n",
      "  df[text] = df[text].str.replace('.', ' ')\n",
      "C:\\Users\\polska2207\\AppData\\Local\\Temp\\ipykernel_2840\\3507607243.py:22: FutureWarning: The default value of regex will change from True to False in a future version. In addition, single character regular expressions will *not* be treated as literal strings when regex=True.\n",
      "  df[text] = df[text].str.replace('(', '')\n",
      "C:\\Users\\polska2207\\AppData\\Local\\Temp\\ipykernel_2840\\3507607243.py:23: FutureWarning: The default value of regex will change from True to False in a future version. In addition, single character regular expressions will *not* be treated as literal strings when regex=True.\n",
      "  df[text] = df[text].str.replace(')', '')\n",
      "C:\\Users\\polska2207\\AppData\\Local\\Temp\\ipykernel_2840\\3507607243.py:26: FutureWarning: The default value of regex will change from True to False in a future version. In addition, single character regular expressions will *not* be treated as literal strings when regex=True.\n",
      "  df[text] = df[text].str.replace('?', ' ')\n"
     ]
    },
    {
     "data": {
      "text/html": [
       "<div>\n",
       "<style scoped>\n",
       "    .dataframe tbody tr th:only-of-type {\n",
       "        vertical-align: middle;\n",
       "    }\n",
       "\n",
       "    .dataframe tbody tr th {\n",
       "        vertical-align: top;\n",
       "    }\n",
       "\n",
       "    .dataframe thead th {\n",
       "        text-align: right;\n",
       "    }\n",
       "</style>\n",
       "<table border=\"1\" class=\"dataframe\">\n",
       "  <thead>\n",
       "    <tr style=\"text-align: right;\">\n",
       "      <th></th>\n",
       "      <th>listing_id</th>\n",
       "      <th>id</th>\n",
       "      <th>date</th>\n",
       "      <th>reviewer_id</th>\n",
       "      <th>reviewer_name</th>\n",
       "      <th>comments</th>\n",
       "    </tr>\n",
       "  </thead>\n",
       "  <tbody>\n",
       "    <tr>\n",
       "      <th>0</th>\n",
       "      <td>3686</td>\n",
       "      <td>131293</td>\n",
       "      <td>2010-11-01</td>\n",
       "      <td>257234</td>\n",
       "      <td>Callie</td>\n",
       "      <td>staying with levita and her wonderful family w...</td>\n",
       "    </tr>\n",
       "    <tr>\n",
       "      <th>1</th>\n",
       "      <td>67483</td>\n",
       "      <td>178804</td>\n",
       "      <td>2011-02-06</td>\n",
       "      <td>74805</td>\n",
       "      <td>Nathan</td>\n",
       "      <td>we had a wonderful stay  it is a beautiful hou...</td>\n",
       "    </tr>\n",
       "    <tr>\n",
       "      <th>2</th>\n",
       "      <td>67483</td>\n",
       "      <td>186099</td>\n",
       "      <td>2011-02-21</td>\n",
       "      <td>41558</td>\n",
       "      <td>Rajeev</td>\n",
       "      <td>looks like my last review did not get posted  ...</td>\n",
       "    </tr>\n",
       "    <tr>\n",
       "      <th>3</th>\n",
       "      <td>67483</td>\n",
       "      <td>215731</td>\n",
       "      <td>2011-04-03</td>\n",
       "      <td>368549</td>\n",
       "      <td>Sarah-Marie</td>\n",
       "      <td>i visited dc with my boyfriend from germany  c...</td>\n",
       "    </tr>\n",
       "    <tr>\n",
       "      <th>4</th>\n",
       "      <td>67483</td>\n",
       "      <td>255742</td>\n",
       "      <td>2011-05-08</td>\n",
       "      <td>530299</td>\n",
       "      <td>Marci</td>\n",
       "      <td>the upstairs apartment was charming and comfor...</td>\n",
       "    </tr>\n",
       "    <tr>\n",
       "      <th>...</th>\n",
       "      <td>...</td>\n",
       "      <td>...</td>\n",
       "      <td>...</td>\n",
       "      <td>...</td>\n",
       "      <td>...</td>\n",
       "      <td>...</td>\n",
       "    </tr>\n",
       "    <tr>\n",
       "      <th>382003</th>\n",
       "      <td>1011662043769361021</td>\n",
       "      <td>1038476115922639203</td>\n",
       "      <td>2023-12-03</td>\n",
       "      <td>404046632</td>\n",
       "      <td>Juhi</td>\n",
       "      <td>this was a wonderful place honestly a steal an...</td>\n",
       "    </tr>\n",
       "    <tr>\n",
       "      <th>382004</th>\n",
       "      <td>1011662043769361021</td>\n",
       "      <td>1048665126771903495</td>\n",
       "      <td>2023-12-17</td>\n",
       "      <td>294302840</td>\n",
       "      <td>Cheryl</td>\n",
       "      <td>scott is place was perfect for our group of 6 ...</td>\n",
       "    </tr>\n",
       "    <tr>\n",
       "      <th>382005</th>\n",
       "      <td>1011936731526425450</td>\n",
       "      <td>1026126491905061548</td>\n",
       "      <td>2023-11-16</td>\n",
       "      <td>139333439</td>\n",
       "      <td>Cong</td>\n",
       "      <td>i had a nice stay  highly recommended</td>\n",
       "    </tr>\n",
       "    <tr>\n",
       "      <th>382006</th>\n",
       "      <td>1012429822724520886</td>\n",
       "      <td>1027662447106785746</td>\n",
       "      <td>2023-11-18</td>\n",
       "      <td>395784221</td>\n",
       "      <td>Amanda</td>\n",
       "      <td>kyle’s place was just in the right spot for wa...</td>\n",
       "    </tr>\n",
       "    <tr>\n",
       "      <th>382007</th>\n",
       "      <td>1012429822724520886</td>\n",
       "      <td>1033430327505008026</td>\n",
       "      <td>2023-11-26</td>\n",
       "      <td>239501295</td>\n",
       "      <td>Marquis</td>\n",
       "      <td>i will book with kyle again  we stayed for tha...</td>\n",
       "    </tr>\n",
       "  </tbody>\n",
       "</table>\n",
       "<p>382008 rows × 6 columns</p>\n",
       "</div>"
      ],
      "text/plain": [
       "                 listing_id                   id        date  reviewer_id  \\\n",
       "0                      3686               131293  2010-11-01       257234   \n",
       "1                     67483               178804  2011-02-06        74805   \n",
       "2                     67483               186099  2011-02-21        41558   \n",
       "3                     67483               215731  2011-04-03       368549   \n",
       "4                     67483               255742  2011-05-08       530299   \n",
       "...                     ...                  ...         ...          ...   \n",
       "382003  1011662043769361021  1038476115922639203  2023-12-03    404046632   \n",
       "382004  1011662043769361021  1048665126771903495  2023-12-17    294302840   \n",
       "382005  1011936731526425450  1026126491905061548  2023-11-16    139333439   \n",
       "382006  1012429822724520886  1027662447106785746  2023-11-18    395784221   \n",
       "382007  1012429822724520886  1033430327505008026  2023-11-26    239501295   \n",
       "\n",
       "       reviewer_name                                           comments  \n",
       "0             Callie  staying with levita and her wonderful family w...  \n",
       "1             Nathan  we had a wonderful stay  it is a beautiful hou...  \n",
       "2             Rajeev  looks like my last review did not get posted  ...  \n",
       "3        Sarah-Marie  i visited dc with my boyfriend from germany  c...  \n",
       "4              Marci  the upstairs apartment was charming and comfor...  \n",
       "...              ...                                                ...  \n",
       "382003          Juhi  this was a wonderful place honestly a steal an...  \n",
       "382004        Cheryl  scott is place was perfect for our group of 6 ...  \n",
       "382005          Cong             i had a nice stay  highly recommended   \n",
       "382006        Amanda  kyle’s place was just in the right spot for wa...  \n",
       "382007       Marquis  i will book with kyle again  we stayed for tha...  \n",
       "\n",
       "[382008 rows x 6 columns]"
      ]
     },
     "execution_count": 227,
     "metadata": {},
     "output_type": "execute_result"
    }
   ],
   "source": [
    "# apply clean_text function\n",
    "clean_text(reviews2, 'comments')"
   ]
  },
  {
   "cell_type": "code",
   "execution_count": 228,
   "id": "5cb3fa14",
   "metadata": {},
   "outputs": [
    {
     "data": {
      "text/html": [
       "<div>\n",
       "<style scoped>\n",
       "    .dataframe tbody tr th:only-of-type {\n",
       "        vertical-align: middle;\n",
       "    }\n",
       "\n",
       "    .dataframe tbody tr th {\n",
       "        vertical-align: top;\n",
       "    }\n",
       "\n",
       "    .dataframe thead th {\n",
       "        text-align: right;\n",
       "    }\n",
       "</style>\n",
       "<table border=\"1\" class=\"dataframe\">\n",
       "  <thead>\n",
       "    <tr style=\"text-align: right;\">\n",
       "      <th></th>\n",
       "      <th>year</th>\n",
       "      <th>num_listings</th>\n",
       "    </tr>\n",
       "  </thead>\n",
       "  <tbody>\n",
       "    <tr>\n",
       "      <th>0</th>\n",
       "      <td>2020</td>\n",
       "      <td>3723</td>\n",
       "    </tr>\n",
       "    <tr>\n",
       "      <th>1</th>\n",
       "      <td>2021</td>\n",
       "      <td>7868</td>\n",
       "    </tr>\n",
       "    <tr>\n",
       "      <th>2</th>\n",
       "      <td>2022</td>\n",
       "      <td>9182</td>\n",
       "    </tr>\n",
       "    <tr>\n",
       "      <th>3</th>\n",
       "      <td>2023</td>\n",
       "      <td>9189</td>\n",
       "    </tr>\n",
       "  </tbody>\n",
       "</table>\n",
       "</div>"
      ],
      "text/plain": [
       "   year  num_listings\n",
       "0  2020          3723\n",
       "1  2021          7868\n",
       "2  2022          9182\n",
       "3  2023          9189"
      ]
     },
     "execution_count": 228,
     "metadata": {},
     "output_type": "execute_result"
    }
   ],
   "source": [
    "# create a dataframe of the listings count data\n",
    "cal_data = {'year': [2020, 2021, 2022, 2023],\n",
    "           'num_listings': [3723, 7868, 9182, 9189]}\n",
    "cal_df = pd.DataFrame(cal_data, columns=['year', 'num_listings'])\n",
    "cal_df"
   ]
  },
  {
   "cell_type": "code",
   "execution_count": 229,
   "id": "664949a4",
   "metadata": {},
   "outputs": [
    {
     "data": {
      "text/html": [
       "<div>\n",
       "<style scoped>\n",
       "    .dataframe tbody tr th:only-of-type {\n",
       "        vertical-align: middle;\n",
       "    }\n",
       "\n",
       "    .dataframe tbody tr th {\n",
       "        vertical-align: top;\n",
       "    }\n",
       "\n",
       "    .dataframe thead th {\n",
       "        text-align: right;\n",
       "    }\n",
       "</style>\n",
       "<table border=\"1\" class=\"dataframe\">\n",
       "  <thead>\n",
       "    <tr style=\"text-align: right;\">\n",
       "      <th></th>\n",
       "      <th>listing_id</th>\n",
       "      <th>id</th>\n",
       "      <th>date</th>\n",
       "      <th>reviewer_id</th>\n",
       "      <th>reviewer_name</th>\n",
       "      <th>comments</th>\n",
       "    </tr>\n",
       "  </thead>\n",
       "  <tbody>\n",
       "    <tr>\n",
       "      <th>0</th>\n",
       "      <td>3686</td>\n",
       "      <td>131293</td>\n",
       "      <td>2010-11-01</td>\n",
       "      <td>257234</td>\n",
       "      <td>Callie</td>\n",
       "      <td>staying with levita and her wonderful family w...</td>\n",
       "    </tr>\n",
       "    <tr>\n",
       "      <th>1</th>\n",
       "      <td>67483</td>\n",
       "      <td>178804</td>\n",
       "      <td>2011-02-06</td>\n",
       "      <td>74805</td>\n",
       "      <td>Nathan</td>\n",
       "      <td>we had a wonderful stay  it is a beautiful hou...</td>\n",
       "    </tr>\n",
       "  </tbody>\n",
       "</table>\n",
       "</div>"
      ],
      "text/plain": [
       "   listing_id      id        date  reviewer_id reviewer_name  \\\n",
       "0        3686  131293  2010-11-01       257234        Callie   \n",
       "1       67483  178804  2011-02-06        74805        Nathan   \n",
       "\n",
       "                                            comments  \n",
       "0  staying with levita and her wonderful family w...  \n",
       "1  we had a wonderful stay  it is a beautiful hou...  "
      ]
     },
     "execution_count": 229,
     "metadata": {},
     "output_type": "execute_result"
    }
   ],
   "source": [
    "reviews2.head(2)"
   ]
  },
  {
   "cell_type": "code",
   "execution_count": 295,
   "id": "81051a29",
   "metadata": {},
   "outputs": [
    {
     "data": {
      "text/plain": [
       "date\n",
       "2009-05-10      1\n",
       "2011-09-10      1\n",
       "2011-09-06      1\n",
       "2013-01-31      1\n",
       "2011-09-04      1\n",
       "             ... \n",
       "2023-05-01    550\n",
       "2023-04-16    572\n",
       "2023-04-23    578\n",
       "2023-11-05    593\n",
       "2023-10-22    627\n",
       "Name: comments, Length: 4611, dtype: int64"
      ]
     },
     "execution_count": 295,
     "metadata": {},
     "output_type": "execute_result"
    }
   ],
   "source": [
    "# looking at count of reviews for each date\n",
    "rev_by_date = reviews2.groupby('date')['comments'].count()\n",
    "\n",
    "rev_by_date.sort_values()"
   ]
  },
  {
   "cell_type": "code",
   "execution_count": 330,
   "id": "c489619f",
   "metadata": {},
   "outputs": [
    {
     "data": {
      "image/png": "[encoded data removed]",
      "text/plain": [
       "<Figure size 640x480 with 1 Axes>"
      ]
     },
     "metadata": {},
     "output_type": "display_data"
    }
   ],
   "source": [
    "# Create plot\n",
    "#Number of comments has increased over time \n",
    "\n",
    "plt.scatter(x=rev_by_date['year'], y=rev_by_date['comments'])\n",
    "plt.title(\"Number of Comments Increased Over Years\")\n",
    "plt.show()"
   ]
  },
  {
   "cell_type": "code",
   "execution_count": null,
   "id": "7d9dc229",
   "metadata": {},
   "outputs": [],
   "source": []
  }
 ],
 "metadata": {
  "kernelspec": {
   "display_name": "Python 3 (ipykernel)",
   "language": "python",
   "name": "python3"
  },
  "language_info": {
   "codemirror_mode": {
    "name": "ipython",
    "version": 3
   },
   "file_extension": ".py",
   "mimetype": "text/x-python",
   "name": "python",
   "nbconvert_exporter": "python",
   "pygments_lexer": "ipython3",
   "version": "3.11.4"
  }
 },
 "nbformat": 4,
 "nbformat_minor": 5
}
